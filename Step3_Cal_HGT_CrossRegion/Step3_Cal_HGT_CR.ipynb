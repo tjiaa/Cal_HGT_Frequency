{
 "cells": [
  {
   "cell_type": "code",
   "execution_count": 1,
   "metadata": {},
   "outputs": [],
   "source": [
    "import pandas as pd\n",
    "import os\n",
    "import shutil\n",
    "from Bio import SeqIO\n",
    "from itertools import combinations\n",
    "import subprocess"
   ]
  },
  {
   "cell_type": "code",
   "execution_count": 2,
   "metadata": {},
   "outputs": [],
   "source": [
    "def remove_duplicates(strings):\n",
    "    seen_pairs = set()    #########\n",
    "    result = []\n",
    "    for string in strings:\n",
    "        parts = string.split('>')\n",
    "        pair = tuple(sorted(parts))\n",
    "        if pair not in seen_pairs:\n",
    "            seen_pairs.add(pair)\n",
    "            result.append(string)\n",
    "    return result\n",
    "\n",
    "def remove_duplicates2(strings):\n",
    "    result = []\n",
    "    for string in strings:\n",
    "        parts = string.split('>')\n",
    "        if len(parts) == 2 and parts[0] != parts[1]:\n",
    "            result.append(string)\n",
    "    return result\n"
   ]
  },
  {
   "cell_type": "markdown",
   "metadata": {},
   "source": [
    "计算HGT Frequent Percentage"
   ]
  },
  {
   "cell_type": "code",
   "execution_count": 3,
   "metadata": {},
   "outputs": [],
   "source": [
    "blastn_path='/Users/jiachenghao/projects/Gal/eLife初稿/eLife_修回/Question4/Step3_Cal_HGT_CrossRegion/blastn'\n",
    "work_path='/Users/jiachenghao/projects/Gal/eLife初稿/eLife_修回/Question4/Step3_Cal_HGT_CrossRegion'"
   ]
  },
  {
   "cell_type": "code",
   "execution_count": 4,
   "metadata": {},
   "outputs": [
    {
     "name": "stdout",
     "output_type": "stream",
     "text": [
      "File Combined\n",
      "\n"
     ]
    },
    {
     "data": {
      "text/plain": [
       "'/Users/jiachenghao/projects/Gal/eLife初稿/eLife_修回/Question4/Step3_Cal_HGT_CrossRegion/Final_blastn_merged.txt'"
      ]
     },
     "execution_count": 4,
     "metadata": {},
     "output_type": "execute_result"
    }
   ],
   "source": [
    "working_directory=blastn_path+'/OUT'\n",
    "command = [\"cat\", \"*.txt\", \">\", \"Final_blastn_merged.txt\"]\n",
    "result = subprocess.run(\" \".join(command), shell=True, stdout=subprocess.PIPE, stderr=subprocess.PIPE, cwd=working_directory)\n",
    "\n",
    "if result.returncode == 0:\n",
    "    print(\"File Combined\")\n",
    "    print(result.stdout.decode())\n",
    "else:\n",
    "    print(\"File Combined Failed\")\n",
    "    print(result.stderr.decode())\n",
    "\n",
    "shutil.move(blastn_path+'/OUT/Final_blastn_merged.txt',work_path)"
   ]
  },
  {
   "cell_type": "code",
   "execution_count": 5,
   "metadata": {},
   "outputs": [],
   "source": [
    "file=pd.read_csv('Final_blastn_merged.txt',sep='\\t',header=None)\n",
    "column=['name1','name2','name3','name4','name5','name6','name7','name8','name9','name10',\n",
    "        'name11','name12','name13','name14']\n",
    "file.columns=column\n",
    "file_length2=file.shape[0]\n",
    "x_col=['>']*file_length2\n",
    "file['x']=x_col\n",
    "file['y']=file.apply(lambda row: ''.join(row[['name1', 'x', 'name2']]), axis=1)\n",
    "\n",
    "file_name1=list(set(file['name1'].to_list()))"
   ]
  },
  {
   "cell_type": "code",
   "execution_count": 6,
   "metadata": {},
   "outputs": [
    {
     "data": {
      "text/html": [
       "<div>\n",
       "<style scoped>\n",
       "    .dataframe tbody tr th:only-of-type {\n",
       "        vertical-align: middle;\n",
       "    }\n",
       "\n",
       "    .dataframe tbody tr th {\n",
       "        vertical-align: top;\n",
       "    }\n",
       "\n",
       "    .dataframe thead th {\n",
       "        text-align: right;\n",
       "    }\n",
       "</style>\n",
       "<table border=\"1\" class=\"dataframe\">\n",
       "  <thead>\n",
       "    <tr style=\"text-align: right;\">\n",
       "      <th></th>\n",
       "      <th>name1</th>\n",
       "      <th>name2</th>\n",
       "      <th>name3</th>\n",
       "      <th>name4</th>\n",
       "      <th>name5</th>\n",
       "      <th>name6</th>\n",
       "      <th>name7</th>\n",
       "      <th>name8</th>\n",
       "      <th>name9</th>\n",
       "      <th>name10</th>\n",
       "      <th>name11</th>\n",
       "      <th>name12</th>\n",
       "      <th>name13</th>\n",
       "      <th>name14</th>\n",
       "      <th>x</th>\n",
       "      <th>y</th>\n",
       "    </tr>\n",
       "  </thead>\n",
       "  <tbody>\n",
       "    <tr>\n",
       "      <th>0</th>\n",
       "      <td>SAL_PA7976AA_0</td>\n",
       "      <td>SAL_PA7725AA_3</td>\n",
       "      <td>100.000</td>\n",
       "      <td>837</td>\n",
       "      <td>0</td>\n",
       "      <td>0</td>\n",
       "      <td>1</td>\n",
       "      <td>837</td>\n",
       "      <td>1</td>\n",
       "      <td>837</td>\n",
       "      <td>ATGTTCATGCCGCCTGTTTTTCCTGCTCATTGGCACGTTTCGCAAC...</td>\n",
       "      <td>ATGTTCATGCCGCCTGTTTTTCCTGCTCATTGGCACGTTTCGCAAC...</td>\n",
       "      <td>0.0</td>\n",
       "      <td>1546</td>\n",
       "      <td>&gt;</td>\n",
       "      <td>SAL_PA7976AA_0&gt;SAL_PA7725AA_3</td>\n",
       "    </tr>\n",
       "    <tr>\n",
       "      <th>1</th>\n",
       "      <td>SAL_PA7976AA_0</td>\n",
       "      <td>SAL_PA7695AA_0</td>\n",
       "      <td>100.000</td>\n",
       "      <td>837</td>\n",
       "      <td>0</td>\n",
       "      <td>0</td>\n",
       "      <td>1</td>\n",
       "      <td>837</td>\n",
       "      <td>1</td>\n",
       "      <td>837</td>\n",
       "      <td>ATGTTCATGCCGCCTGTTTTTCCTGCTCATTGGCACGTTTCGCAAC...</td>\n",
       "      <td>ATGTTCATGCCGCCTGTTTTTCCTGCTCATTGGCACGTTTCGCAAC...</td>\n",
       "      <td>0.0</td>\n",
       "      <td>1546</td>\n",
       "      <td>&gt;</td>\n",
       "      <td>SAL_PA7976AA_0&gt;SAL_PA7695AA_0</td>\n",
       "    </tr>\n",
       "    <tr>\n",
       "      <th>2</th>\n",
       "      <td>SAL_PA7976AA_0</td>\n",
       "      <td>SAL04027_4</td>\n",
       "      <td>99.881</td>\n",
       "      <td>837</td>\n",
       "      <td>1</td>\n",
       "      <td>0</td>\n",
       "      <td>1</td>\n",
       "      <td>837</td>\n",
       "      <td>1</td>\n",
       "      <td>837</td>\n",
       "      <td>ATGTTCATGCCGCCTGTTTTTCCTGCTCATTGGCACGTTTCGCAAC...</td>\n",
       "      <td>ATGTTCATGCCGCCTGTTTTTCCTGCTCATTGGCACGTTTCGCAAC...</td>\n",
       "      <td>0.0</td>\n",
       "      <td>1541</td>\n",
       "      <td>&gt;</td>\n",
       "      <td>SAL_PA7976AA_0&gt;SAL04027_4</td>\n",
       "    </tr>\n",
       "    <tr>\n",
       "      <th>3</th>\n",
       "      <td>SAL_PA7976AA_0</td>\n",
       "      <td>SAL03319_1</td>\n",
       "      <td>99.881</td>\n",
       "      <td>837</td>\n",
       "      <td>1</td>\n",
       "      <td>0</td>\n",
       "      <td>1</td>\n",
       "      <td>837</td>\n",
       "      <td>1</td>\n",
       "      <td>837</td>\n",
       "      <td>ATGTTCATGCCGCCTGTTTTTCCTGCTCATTGGCACGTTTCGCAAC...</td>\n",
       "      <td>ATGTTCATGCCGCCTGTTTTTCCTGCTCATTGGCACGTTTCGCAAC...</td>\n",
       "      <td>0.0</td>\n",
       "      <td>1541</td>\n",
       "      <td>&gt;</td>\n",
       "      <td>SAL_PA7976AA_0&gt;SAL03319_1</td>\n",
       "    </tr>\n",
       "    <tr>\n",
       "      <th>4</th>\n",
       "      <td>SAL_PA7976AA_0</td>\n",
       "      <td>SAL03320_2</td>\n",
       "      <td>99.881</td>\n",
       "      <td>837</td>\n",
       "      <td>1</td>\n",
       "      <td>0</td>\n",
       "      <td>1</td>\n",
       "      <td>837</td>\n",
       "      <td>1</td>\n",
       "      <td>837</td>\n",
       "      <td>ATGTTCATGCCGCCTGTTTTTCCTGCTCATTGGCACGTTTCGCAAC...</td>\n",
       "      <td>ATGTTCATGCCGCCTGTTTTTCCTGCTCATTGGCACGTTTCGCAAC...</td>\n",
       "      <td>0.0</td>\n",
       "      <td>1541</td>\n",
       "      <td>&gt;</td>\n",
       "      <td>SAL_PA7976AA_0&gt;SAL03320_2</td>\n",
       "    </tr>\n",
       "  </tbody>\n",
       "</table>\n",
       "</div>"
      ],
      "text/plain": [
       "            name1           name2    name3  name4  name5  name6  name7  name8   \n",
       "0  SAL_PA7976AA_0  SAL_PA7725AA_3  100.000    837      0      0      1    837  \\\n",
       "1  SAL_PA7976AA_0  SAL_PA7695AA_0  100.000    837      0      0      1    837   \n",
       "2  SAL_PA7976AA_0      SAL04027_4   99.881    837      1      0      1    837   \n",
       "3  SAL_PA7976AA_0      SAL03319_1   99.881    837      1      0      1    837   \n",
       "4  SAL_PA7976AA_0      SAL03320_2   99.881    837      1      0      1    837   \n",
       "\n",
       "   name9  name10                                             name11   \n",
       "0      1     837  ATGTTCATGCCGCCTGTTTTTCCTGCTCATTGGCACGTTTCGCAAC...  \\\n",
       "1      1     837  ATGTTCATGCCGCCTGTTTTTCCTGCTCATTGGCACGTTTCGCAAC...   \n",
       "2      1     837  ATGTTCATGCCGCCTGTTTTTCCTGCTCATTGGCACGTTTCGCAAC...   \n",
       "3      1     837  ATGTTCATGCCGCCTGTTTTTCCTGCTCATTGGCACGTTTCGCAAC...   \n",
       "4      1     837  ATGTTCATGCCGCCTGTTTTTCCTGCTCATTGGCACGTTTCGCAAC...   \n",
       "\n",
       "                                              name12  name13  name14  x   \n",
       "0  ATGTTCATGCCGCCTGTTTTTCCTGCTCATTGGCACGTTTCGCAAC...     0.0    1546  >  \\\n",
       "1  ATGTTCATGCCGCCTGTTTTTCCTGCTCATTGGCACGTTTCGCAAC...     0.0    1546  >   \n",
       "2  ATGTTCATGCCGCCTGTTTTTCCTGCTCATTGGCACGTTTCGCAAC...     0.0    1541  >   \n",
       "3  ATGTTCATGCCGCCTGTTTTTCCTGCTCATTGGCACGTTTCGCAAC...     0.0    1541  >   \n",
       "4  ATGTTCATGCCGCCTGTTTTTCCTGCTCATTGGCACGTTTCGCAAC...     0.0    1541  >   \n",
       "\n",
       "                               y  \n",
       "0  SAL_PA7976AA_0>SAL_PA7725AA_3  \n",
       "1  SAL_PA7976AA_0>SAL_PA7695AA_0  \n",
       "2      SAL_PA7976AA_0>SAL04027_4  \n",
       "3      SAL_PA7976AA_0>SAL03319_1  \n",
       "4      SAL_PA7976AA_0>SAL03320_2  "
      ]
     },
     "execution_count": 6,
     "metadata": {},
     "output_type": "execute_result"
    }
   ],
   "source": [
    "file"
   ]
  },
  {
   "cell_type": "code",
   "execution_count": 7,
   "metadata": {},
   "outputs": [
    {
     "data": {
      "text/plain": [
       "(5, 16)"
      ]
     },
     "execution_count": 7,
     "metadata": {},
     "output_type": "execute_result"
    }
   ],
   "source": [
    "file.shape"
   ]
  },
  {
   "cell_type": "code",
   "execution_count": 8,
   "metadata": {},
   "outputs": [
    {
     "name": "stdout",
     "output_type": "stream",
     "text": [
      "The 100% Coverage is 837\n"
     ]
    }
   ],
   "source": [
    "All_Y=[]\n",
    "All_verify=[]\n",
    "Check_MAX=[]\n",
    "\n",
    "for i in file_name1:\n",
    "    temp_file=file[file['name1']==i]\n",
    "\n",
    "    max_value = 837   #### Coverage == 100%  ### It is important here to manually enter the length of the ARGs！！！\n",
    "    Check_MAX.append(max_value)\n",
    "\n",
    "    temp_file3=temp_file[temp_file['name4']==max_value]\n",
    "    temp_file3=temp_file3[temp_file3['name3'] ==  100] \n",
    "    \n",
    "    ready_to_depulicate=temp_file3['y'].to_list()\n",
    "    verfy=temp_file3['name4'].to_list()\n",
    "    for ii in ready_to_depulicate:\n",
    "        All_Y.append(ii)\n",
    "    for iii in verfy:\n",
    "        All_verify.append(iii)\n",
    "\n",
    "\n",
    "print('The 100% Coverage is', list(set(Check_MAX))[0])\n",
    "if len(list(set(Check_MAX))) > 1:\n",
    "    print('Warning: the 100% Identity is not only.')"
   ]
  },
  {
   "cell_type": "code",
   "execution_count": 9,
   "metadata": {},
   "outputs": [],
   "source": [
    "filtered_1=remove_duplicates(All_Y)\n",
    "filtered_2=remove_duplicates2(filtered_1)\n",
    "temp_out=pd.DataFrame(filtered_2)\n",
    "temp_out.to_csv('HGT_Detailed.csv',index=False)"
   ]
  },
  {
   "cell_type": "code",
   "execution_count": 10,
   "metadata": {},
   "outputs": [],
   "source": [
    "All_Y_Motified=[]\n",
    "for i in All_Y:\n",
    "    i=i.split('>')\n",
    "    i_motifi_1=i[0]\n",
    "    last_underscore_index=i_motifi_1.rfind('_')\n",
    "    i_motifi_1=i_motifi_1[:last_underscore_index]\n",
    "\n",
    "    i_motifi_2=i[-1]\n",
    "    last_underscore_index=i_motifi_2.rfind('_')\n",
    "    i_motifi_2=i_motifi_2[:last_underscore_index]\n",
    "\n",
    "    Motified_i=i_motifi_1+'>'+i_motifi_2\n",
    "    All_Y_Motified.append(Motified_i)"
   ]
  },
  {
   "cell_type": "code",
   "execution_count": 11,
   "metadata": {},
   "outputs": [],
   "source": [
    "filtered_1=remove_duplicates(All_Y_Motified)\n",
    "filtered_2=remove_duplicates2(filtered_1)\n",
    "temp_out=pd.DataFrame(filtered_2)\n",
    "temp_out.to_csv('HGT_Strain_Non_Detailed.csv',index=False)"
   ]
  },
  {
   "cell_type": "code",
   "execution_count": 12,
   "metadata": {},
   "outputs": [
    {
     "name": "stdout",
     "output_type": "stream",
     "text": [
      "2\n",
      "5\n",
      "HGT CrossRegion is 0.4\n"
     ]
    }
   ],
   "source": [
    "# final_all_all=file_length*file_length    #######Bug2\n",
    "final_all_count=len(filtered_2)\n",
    "print(final_all_count)\n",
    "final_all_all=file.shape[0] ###########\n",
    "print(final_all_all) \n",
    "HGT_Frequency=final_all_count/final_all_all\n",
    "HGT_Frequency=round(HGT_Frequency,2)\n",
    "print('HGT CrossRegion is',HGT_Frequency)"
   ]
  }
 ],
 "metadata": {
  "kernelspec": {
   "display_name": "jia_node05",
   "language": "python",
   "name": "python3"
  },
  "language_info": {
   "codemirror_mode": {
    "name": "ipython",
    "version": 3
   },
   "file_extension": ".py",
   "mimetype": "text/x-python",
   "name": "python",
   "nbconvert_exporter": "python",
   "pygments_lexer": "ipython3",
   "version": "3.10.9"
  }
 },
 "nbformat": 4,
 "nbformat_minor": 2
}
