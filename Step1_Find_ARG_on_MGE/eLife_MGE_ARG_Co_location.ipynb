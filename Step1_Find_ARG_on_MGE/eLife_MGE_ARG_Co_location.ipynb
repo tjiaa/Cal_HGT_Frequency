{
 "cells": [
  {
   "cell_type": "code",
   "execution_count": 1,
   "metadata": {},
   "outputs": [],
   "source": [
    "import pandas as pd\n",
    "import os\n",
    "from collections import Counter\n",
    "import shutil"
   ]
  },
  {
   "cell_type": "code",
   "execution_count": 3,
   "metadata": {},
   "outputs": [],
   "source": [
    "def Search_Location(search_contig,Location,readFiles):\n",
    "    global MGE_ARG_Determin\n",
    "    MGE_ARG_Determin=0\n",
    "\n",
    "    file=readFiles\n",
    "    file=file[file['Contig']==search_contig]    \n",
    "    file_MGE_location=file['Location'].to_list()\n",
    "\n",
    "    for temp_location in file_MGE_location:\n",
    "        MGE_start=temp_location.split('-')[0]\n",
    "        MGE_start=int(MGE_start)\n",
    "        MGE_end=temp_location.split('-')[-1]\n",
    "        MGE_end=int(MGE_end)\n",
    "\n",
    "        ARG_start=Location.split('-')[0]  \n",
    "        ARG_start=int(ARG_start)\n",
    "        ARG_end=Location.split('-')[-1] \n",
    "        ARG_end=int(ARG_end)\n",
    "        if MGE_start <= ARG_start and ARG_end <= MGE_end:\n",
    "            MGE_ARG_Determin=1"
   ]
  },
  {
   "cell_type": "code",
   "execution_count": null,
   "metadata": {},
   "outputs": [],
   "source": [
    "ARG_path='/Users/jiachenghao/projects/Gal/eLife初稿/eLife_修回/Question4/China_Res/' ###Here please enter the output of ResFinder in Abricate\n",
    "ARG_path_list=os.listdir(ARG_path)\n",
    "\n",
    "All_Mo_Files_path='/Users/jiachenghao/projects/Gal/eLife初稿/eLife_修回/Question4/All_Mo_Files/' ###MGE location file as modified in Step1\n",
    "All_Mo_Files_list=os.listdir(All_Mo_Files_path)\n",
    "\n",
    "ARG_Final_Motifi_path='/Users/jiachenghao/projects/Gal/eLife初稿/eLife_修回/Question4/China_Res_on_MGE/'\n",
    "###The modified Res file will be output under ARG_Final_Motifi_path, keeping only the MGE-related entries\n",
    "\n",
    "China_436=pd.read_excel('china_436.xlsx')['Strain'].to_list()\n",
    "print('China Strain is',len(China_436))\n",
    "\n",
    "for i in China_436:\n",
    "    # print(i)\n",
    "    readFiles=[x for x in All_Mo_Files_list if x.startswith(i)]\n",
    "    readFiles=[pd.read_csv(All_Mo_Files_path+file) for file in readFiles]\n",
    "    readFiles=pd.concat(readFiles, ignore_index=True)\n",
    "\n",
    "    ARG_File=[x for x in ARG_path_list if x.startswith(i)][0]\n",
    "    ARG_motify=pd.read_csv(ARG_path+ARG_File,sep='\\t')\n",
    "    ARG_motify=ARG_motify[ARG_motify['GENE'] != \"aac(6')-Iaa_1\"].reset_index(drop=True)\n",
    "    \n",
    "    ARG_motify_contig=ARG_motify['SEQUENCE'].to_list()  ###\n",
    "    ARG_motify_start=ARG_motify['START'].to_list()  #####\n",
    "    ARG_motify_end=ARG_motify['END'].to_list()\n",
    "    ARG_motify_name=ARG_motify['GENE'].to_list() ######\n",
    "\n",
    "\n",
    "    counter=list(range(len(ARG_motify_contig)))\n",
    "    final_count=[]\n",
    "    for ii in counter:\n",
    "        search_contig=ARG_motify_contig[ii]\n",
    "        ARG_location=str(ARG_motify_start[ii])+'-'+str(ARG_motify_end[ii])\n",
    "        Search_Location(search_contig,ARG_location,readFiles)\n",
    "        final_count.append(MGE_ARG_Determin)\n",
    "\n",
    "##### Now modify the ARG's File to output the ARGs that are on the MGE individually, deleting the ARGs that are not on the MGE #####\n",
    "    Delet_row=[index for index, value in enumerate(final_count) if value == 0]\n",
    "    # print(Delet_row)\n",
    "    if len(Delet_row) >= 1:\n",
    "        ARG_motify=ARG_motify.drop(Delet_row, axis=0).reset_index(drop=True)\n",
    "    ARG_motify.to_csv(ARG_Final_Motifi_path+ARG_File+'.modified.csv',index=False)"
   ]
  }
 ],
 "metadata": {
  "kernelspec": {
   "display_name": "jia_node05",
   "language": "python",
   "name": "python3"
  },
  "language_info": {
   "codemirror_mode": {
    "name": "ipython",
    "version": 3
   },
   "file_extension": ".py",
   "mimetype": "text/x-python",
   "name": "python",
   "nbconvert_exporter": "python",
   "pygments_lexer": "ipython3",
   "version": "3.10.9"
  }
 },
 "nbformat": 4,
 "nbformat_minor": 2
}
